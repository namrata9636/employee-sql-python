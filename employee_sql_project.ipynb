{
 "cells": [
  {
   "cell_type": "code",
   "execution_count": 3,
   "id": "ab779c12-9ea6-4b32-9890-5e73947e2151",
   "metadata": {},
   "outputs": [
    {
     "ename": "IntegrityError",
     "evalue": "UNIQUE constraint failed: employees.id",
     "output_type": "error",
     "traceback": [
      "\u001b[31m---------------------------------------------------------------------------\u001b[39m",
      "\u001b[31mIntegrityError\u001b[39m                            Traceback (most recent call last)",
      "\u001b[36mCell\u001b[39m\u001b[36m \u001b[39m\u001b[32mIn[3]\u001b[39m\u001b[32m, line 19\u001b[39m\n\u001b[32m      8\u001b[39m cursor.execute(\u001b[33m'''\u001b[39m\n\u001b[32m      9\u001b[39m \u001b[33mCREATE TABLE IF NOT EXISTS employees (\u001b[39m\n\u001b[32m     10\u001b[39m \u001b[33m    id INTEGER PRIMARY KEY,\u001b[39m\n\u001b[32m   (...)\u001b[39m\u001b[32m     15\u001b[39m \u001b[33m)\u001b[39m\n\u001b[32m     16\u001b[39m \u001b[33m'''\u001b[39m)\n\u001b[32m     18\u001b[39m \u001b[38;5;66;03m# Insert data\u001b[39;00m\n\u001b[32m---> \u001b[39m\u001b[32m19\u001b[39m \u001b[43mcursor\u001b[49m\u001b[43m.\u001b[49m\u001b[43mexecute\u001b[49m\u001b[43m(\u001b[49m\u001b[33;43m\"\u001b[39;49m\u001b[33;43mINSERT INTO employees VALUES (1, \u001b[39;49m\u001b[33;43m'\u001b[39;49m\u001b[33;43mAmit\u001b[39;49m\u001b[33;43m'\u001b[39;49m\u001b[33;43m, \u001b[39;49m\u001b[33;43m'\u001b[39;49m\u001b[33;43mHR\u001b[39;49m\u001b[33;43m'\u001b[39;49m\u001b[33;43m, 50000, \u001b[39;49m\u001b[33;43m'\u001b[39;49m\u001b[33;43m2020-01-10\u001b[39;49m\u001b[33;43m'\u001b[39;49m\u001b[33;43m)\u001b[39;49m\u001b[33;43m\"\u001b[39;49m\u001b[43m)\u001b[49m\n\u001b[32m     20\u001b[39m cursor.execute(\u001b[33m\"\u001b[39m\u001b[33mINSERT INTO employees VALUES (2, \u001b[39m\u001b[33m'\u001b[39m\u001b[33mSneha\u001b[39m\u001b[33m'\u001b[39m\u001b[33m, \u001b[39m\u001b[33m'\u001b[39m\u001b[33mIT\u001b[39m\u001b[33m'\u001b[39m\u001b[33m, 70000, \u001b[39m\u001b[33m'\u001b[39m\u001b[33m2019-03-15\u001b[39m\u001b[33m'\u001b[39m\u001b[33m)\u001b[39m\u001b[33m\"\u001b[39m)\n\u001b[32m     21\u001b[39m cursor.execute(\u001b[33m\"\u001b[39m\u001b[33mINSERT INTO employees VALUES (3, \u001b[39m\u001b[33m'\u001b[39m\u001b[33mRahul\u001b[39m\u001b[33m'\u001b[39m\u001b[33m, \u001b[39m\u001b[33m'\u001b[39m\u001b[33mFinance\u001b[39m\u001b[33m'\u001b[39m\u001b[33m, 65000, \u001b[39m\u001b[33m'\u001b[39m\u001b[33m2021-07-01\u001b[39m\u001b[33m'\u001b[39m\u001b[33m)\u001b[39m\u001b[33m\"\u001b[39m)\n",
      "\u001b[31mIntegrityError\u001b[39m: UNIQUE constraint failed: employees.id"
     ]
    }
   ],
   "source": [
    "import sqlite3\n",
    "\n",
    "# Create new database file\n",
    "conn = sqlite3.connect(\"employee_data.db\")\n",
    "cursor = conn.cursor()\n",
    "\n",
    "# Create employee table\n",
    "cursor.execute('''\n",
    "CREATE TABLE IF NOT EXISTS employees (\n",
    "    id INTEGER PRIMARY KEY,\n",
    "    name TEXT,\n",
    "    department TEXT,\n",
    "    salary INTEGER,\n",
    "    join_date TEXT\n",
    ")\n",
    "''')\n",
    "\n",
    "# Insert data\n",
    "cursor.execute(\"INSERT INTO employees VALUES (1, 'Amit', 'HR', 50000, '2020-01-10')\")\n",
    "cursor.execute(\"INSERT INTO employees VALUES (2, 'Sneha', 'IT', 70000, '2019-03-15')\")\n",
    "cursor.execute(\"INSERT INTO employees VALUES (3, 'Rahul', 'Finance', 65000, '2021-07-01')\")\n",
    "cursor.execute(\"INSERT INTO employees VALUES (4, 'Pooja', 'IT', 80000, '2022-11-05')\")\n",
    "\n",
    "conn.commit()\n",
    "conn.close()\n"
   ]
  },
  {
   "cell_type": "code",
   "execution_count": 2,
   "id": "55744dc5-eae6-43e4-af80-d186d142ac4f",
   "metadata": {},
   "outputs": [
    {
     "ename": "ModuleNotFoundError",
     "evalue": "No module named 'pandas'",
     "output_type": "error",
     "traceback": [
      "\u001b[31m---------------------------------------------------------------------------\u001b[39m",
      "\u001b[31mModuleNotFoundError\u001b[39m                       Traceback (most recent call last)",
      "\u001b[36mCell\u001b[39m\u001b[36m \u001b[39m\u001b[32mIn[2]\u001b[39m\u001b[32m, line 1\u001b[39m\n\u001b[32m----> \u001b[39m\u001b[32m1\u001b[39m \u001b[38;5;28;01mimport\u001b[39;00m\u001b[38;5;250m \u001b[39m\u001b[34;01mpandas\u001b[39;00m\u001b[38;5;250m \u001b[39m\u001b[38;5;28;01mas\u001b[39;00m\u001b[38;5;250m \u001b[39m\u001b[34;01mpd\u001b[39;00m\n\u001b[32m      2\u001b[39m conn = sqlite3.connect(\u001b[33m\"\u001b[39m\u001b[33memployee_data.db\u001b[39m\u001b[33m\"\u001b[39m)\n\u001b[32m      4\u001b[39m query = \u001b[33m\"\u001b[39m\u001b[33mSELECT * FROM employees WHERE department = \u001b[39m\u001b[33m'\u001b[39m\u001b[33mIT\u001b[39m\u001b[33m'\u001b[39m\u001b[33m\"\u001b[39m\n",
      "\u001b[31mModuleNotFoundError\u001b[39m: No module named 'pandas'"
     ]
    }
   ],
   "source": [
    "import pandas as pd\n",
    "conn = sqlite3.connect(\"employee_data.db\")\n",
    "\n",
    "query = \"SELECT * FROM employees WHERE department = 'IT'\"\n",
    "df = pd.read_sql_query(query, conn)\n",
    "\n",
    "print(\"Employees in IT department:\")\n",
    "print(df)\n",
    "\n",
    "conn.close()\n"
   ]
  },
  {
   "cell_type": "code",
   "execution_count": null,
   "id": "6789a46e-7c6b-4ad6-ae1a-0b906a7ad2bf",
   "metadata": {},
   "outputs": [],
   "source": []
  },
  {
   "cell_type": "code",
   "execution_count": null,
   "id": "0a4f8c66-b5a8-40be-8d62-62d98de4000a",
   "metadata": {},
   "outputs": [],
   "source": []
  }
 ],
 "metadata": {
  "kernelspec": {
   "display_name": "Python 3 (ipykernel)",
   "language": "python",
   "name": "python3"
  },
  "language_info": {
   "codemirror_mode": {
    "name": "ipython",
    "version": 3
   },
   "file_extension": ".py",
   "mimetype": "text/x-python",
   "name": "python",
   "nbconvert_exporter": "python",
   "pygments_lexer": "ipython3",
   "version": "3.13.5"
  }
 },
 "nbformat": 4,
 "nbformat_minor": 5
}
